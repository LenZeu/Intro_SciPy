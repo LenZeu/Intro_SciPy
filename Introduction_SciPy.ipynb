{
 "cells": [
  {
   "cell_type": "markdown",
   "metadata": {},
   "source": [
    "# Advanced topic presentation: Scipy"
   ]
  },
  {
   "cell_type": "markdown",
   "metadata": {},
   "source": [
    "![alt text](SciPy.png \"Title\")"
   ]
  },
  {
   "cell_type": "markdown",
   "metadata": {},
   "source": [
    "## What is SciPy?\n",
    "\n",
    "- SciPy is a free and open source library used for scientific computing. \n",
    "- More specifically, SciPy is a collection of mathematical algorithms built on Numpy data structures. \n",
    "- Organized into subpackages covering different scientific computing areas. \n",
    "- Initially released in 2001 by merging code from Travis Oliphant, Eric Jones, and Pearu Peterson. \n",
    "- A data-processing environment rivaling MATLAB"
   ]
  },
  {
   "cell_type": "markdown",
   "metadata": {},
   "source": [
    "## SciPy Modules:\n",
    "\n",
    "- As mentioned, SciPy has various subpackages that cover different scientific computing domains. \n",
    "\n",
    "The following is a summarized table of the subpackages:\n",
    "\n",
    "\n",
    "\n",
    "    Subpackage\t     Description\n",
    "    cluster\t        Clustering algorithms\n",
    "    constants\t      Physical and mathematical constants\n",
    "    fftpack\t        Fast Fourier Transform routines\n",
    "    integrate \t     Integration and differential equation solvers\n",
    "    interpolate\t    Interpolation and smoothing splines\n",
    "    io\t             Input and Output\n",
    "    linalg\t         Linear algebra\n",
    "    ndimage\t        N-dimensional image processing\n",
    "    odr\t            Orthogonal distance regression\n",
    "    optimize\t       Optimization and root-finding routines\n",
    "    signal\t         Signal processing\n",
    "    sparse\t         Sparse matrices and associated routines\n",
    "    spatial\t        Spatial data structures and algorithms\n",
    "    special\t        Special functions\n",
    "    stats\t          Statistical distributions and functions\n",
    "    \n",
    "SciPy's functionalities rely heavily on mathematical concepts\n",
    "\n",
    "\n",
    "\n"
   ]
  },
  {
   "cell_type": "markdown",
   "metadata": {},
   "source": [
    "### Import SciPy"
   ]
  },
  {
   "cell_type": "code",
   "execution_count": 1,
   "metadata": {},
   "outputs": [],
   "source": [
    "import numpy as np\n",
    "from scipy.optimize import minimize\n",
    "import scipy.integrate as integrate\n",
    "\n",
    "#import scipy as sp      -- in case we want import the whole package"
   ]
  },
  {
   "cell_type": "markdown",
   "metadata": {},
   "source": [
    "### Integration:\n",
    "\n",
    "Integration is a mathematical concept that can be used for finding areas, volumes, central points and has many other usefull applications."
   ]
  },
  {
   "cell_type": "markdown",
   "metadata": {},
   "source": [
    "### Integration (1):\n",
    "\n",
    "Let's use SciPy to integrate a simple function"
   ]
  },
  {
   "cell_type": "code",
   "execution_count": 2,
   "metadata": {},
   "outputs": [],
   "source": [
    "result = integrate.quad(lambda x: 3*x**3+2*x**2+x, 0,6)"
   ]
  },
  {
   "cell_type": "code",
   "execution_count": 3,
   "metadata": {},
   "outputs": [
    {
     "data": {
      "text/plain": [
       "1134.0"
      ]
     },
     "execution_count": 3,
     "metadata": {},
     "output_type": "execute_result"
    }
   ],
   "source": [
    "result[0]"
   ]
  },
  {
   "cell_type": "markdown",
   "metadata": {},
   "source": [
    "### Integration (2):\n",
    "\n",
    "Let's try to use SciPy to derive the value of Pi"
   ]
  },
  {
   "cell_type": "markdown",
   "metadata": {},
   "source": [
    "## The equation of a full circle with r = 1 follows:\n",
    "\n",
    "## $x^2+y^2 = 1$\n"
   ]
  },
  {
   "cell_type": "markdown",
   "metadata": {},
   "source": [
    "![alt text](whole_circle.PNG \"Title\")"
   ]
  },
  {
   "cell_type": "markdown",
   "metadata": {},
   "source": [
    "From that, we can derive the equation for a half circle"
   ]
  },
  {
   "cell_type": "markdown",
   "metadata": {},
   "source": [
    "![alt text](whole_circle1.PNG \"Title\")"
   ]
  },
  {
   "cell_type": "markdown",
   "metadata": {},
   "source": [
    "We can integrate $y = \\sqrt{(1-x^2}$ to derive the area of a half circle"
   ]
  },
  {
   "cell_type": "code",
   "execution_count": 4,
   "metadata": {},
   "outputs": [
    {
     "data": {
      "text/plain": [
       "3.141592653589797"
      ]
     },
     "execution_count": 4,
     "metadata": {},
     "output_type": "execute_result"
    }
   ],
   "source": [
    "area = integrate.quad(lambda x: (1-x**2)**(0.5), -1,1)\n",
    "pi = area[0]*2\n",
    "pi"
   ]
  },
  {
   "cell_type": "markdown",
   "metadata": {},
   "source": [
    "### League of Legends Optimization Problem:\n",
    "\n",
    "Let's assume the following problem:\n",
    "\n",
    "In League of Legends, a player's Effective Health when defending against physical damage is given by $𝐸=\\frac{{𝐻}{(100+𝐴)}}{100}$, where 𝐻 is health and 𝐴 is armor."
   ]
  },
  {
   "cell_type": "markdown",
   "metadata": {},
   "source": [
    "#### Problem Statement (1):\n",
    "(1) Health costs 2.5 gold per unit, and Armor costs 18 gold per unit. You have 3600 gold, and you need to optimize your effectivene health (E) by purchasing health and armor to survive as long as possible against the enemy team's attacks. How much of each should you buy?"
   ]
  },
  {
   "cell_type": "code",
   "execution_count": 5,
   "metadata": {},
   "outputs": [],
   "source": [
    "def objective1(x):\n",
    "    return -(x[0]*(100+x[1])/100)   #because scipy does not have a maximixe funciton we need to reverse the equation\n",
    "\n",
    "def constraint1(x):\n",
    "    return 3600-(x[0]*2.5+x[1]*18)\n",
    " \n",
    "bnds1 = ((0,1440),(0,200))\n",
    "cons = {'type': 'ineq', 'fun': constraint1}\n",
    "sol1 = minimize(objective1, x0=[0,0], bounds = bnds1, method= 'SLSQP', constraints = cons)"
   ]
  },
  {
   "cell_type": "code",
   "execution_count": 6,
   "metadata": {},
   "outputs": [
    {
     "name": "stdout",
     "output_type": "stream",
     "text": [
      "     fun: -1620.0000005213012\n",
      "     jac: array([ -1.50001526, -10.79989624])\n",
      " message: 'Optimization terminated successfully.'\n",
      "    nfev: 42\n",
      "     nit: 10\n",
      "    njev: 10\n",
      "  status: 0\n",
      " success: True\n",
      "       x: array([1079.99661239,   50.00047055])\n",
      "1080.0 50\n"
     ]
    }
   ],
   "source": [
    "print(sol1)\n",
    "\n",
    "print(round(sol1.x[0],0), int(sol1.x[1]))"
   ]
  },
  {
   "cell_type": "markdown",
   "metadata": {},
   "source": [
    "#### Solution: In order to maximize effective health a player should purchase 1080 Health and 50 Amour"
   ]
  },
  {
   "cell_type": "markdown",
   "metadata": {},
   "source": [
    "#### Problem Statement (2):\n",
    "\n",
    "Ten minutes into the game, you have 1080 health and 10 armor. You have only 720 gold to spend, and again Health costs 2.5 gold per unit while Armor costs 18 gold per unit. Again the goal is to maximize the effectiveness E."
   ]
  },
  {
   "cell_type": "code",
   "execution_count": 7,
   "metadata": {},
   "outputs": [],
   "source": [
    "def objective2(x):\n",
    "    return -((x[0]+1080)*(100+(x[1]+10))/100)\n",
    "\n",
    "def constraint2(x):\n",
    "    return 720-(x[0]*2.5+x[1]*18)\n",
    "\n",
    "bnds2 = ((0,288),(0,40))\n",
    "cons = {'type': 'ineq', 'fun': constraint2}\n",
    "sol2 = minimize(objective2, x0=[0,0], bounds = bnds2,method = 'SLSQP', constraints = cons)"
   ]
  },
  {
   "cell_type": "code",
   "execution_count": 8,
   "metadata": {},
   "outputs": [
    {
     "name": "stdout",
     "output_type": "stream",
     "text": [
      "     fun: -1619.9999998864348\n",
      "     jac: array([ -1.49998474, -10.80007935])\n",
      " message: 'Optimization terminated successfully.'\n",
      "    nfev: 32\n",
      "     nit: 8\n",
      "    njev: 8\n",
      "  status: 0\n",
      " success: True\n",
      "       x: array([8.97498020e-03, 3.99987535e+01])\n",
      "\n",
      "0 40.0\n"
     ]
    }
   ],
   "source": [
    "print(sol2)\n",
    "print()\n",
    "print(int(sol2.x[0]), round((sol2.x[1])))"
   ]
  },
  {
   "cell_type": "markdown",
   "metadata": {},
   "source": [
    "#### Solution: The player should purchase zero Health and 40 Armor to get back to the original optimal health mix."
   ]
  },
  {
   "cell_type": "markdown",
   "metadata": {},
   "source": [
    "### Problem Statement (3): \n",
    "\n",
    "Thirty minutes into the game, you have 2000 health and 50 armor. You have 1800 gold to spend, and again Health costs approximately 2.5 gold per unit while Armor costs approximately 18 gold per unit. Again the goal is to maximize the effectiveness E of your resulting health and armor. How much of each should you buy?\n",
    "\n"
   ]
  },
  {
   "cell_type": "code",
   "execution_count": 9,
   "metadata": {},
   "outputs": [],
   "source": [
    "def objective3(x):\n",
    "    return -((x[0]+2000)*(100+(x[1]+50))/100)\n",
    "\n",
    "def constraint3(x):\n",
    "    return 2000-(x[0]*2.5+x[1]*18)\n",
    "\n",
    "bnds3 = ((0,400),(0,2000/18))\n",
    "cons = {'type': 'ineq', 'fun': constraint3}\n",
    "sol3 = minimize(objective3, x0=[0,0], bounds = bnds3,method = 'SLSQP', constraints = cons)  #SLSQP = Sequential Least SQuares Programming method that scipy uses to miminze"
   ]
  },
  {
   "cell_type": "code",
   "execution_count": 10,
   "metadata": {},
   "outputs": [
    {
     "name": "stdout",
     "output_type": "stream",
     "text": [
      "     fun: -5222.222222226124\n",
      "     jac: array([ -2.61114502, -20.        ])\n",
      " message: 'Optimization terminated successfully.'\n",
      "    nfev: 28\n",
      "     nit: 7\n",
      "    njev: 7\n",
      "  status: 0\n",
      " success: True\n",
      "       x: array([1.49474122e-09, 1.11111111e+02])\n",
      "\n",
      "0 111\n"
     ]
    }
   ],
   "source": [
    "print(sol3)\n",
    "print()\n",
    "print(int(sol3.x[0]), int(sol3.x[1]))"
   ]
  },
  {
   "cell_type": "markdown",
   "metadata": {},
   "source": [
    "#### Solution: The player should invest all his gold in Armor"
   ]
  },
  {
   "cell_type": "markdown",
   "metadata": {},
   "source": [
    "## Examples of more advanced Optimization Problems:\n",
    "\n",
    "- Portfolio Optimization in Finance\n",
    "- Flight Schedule Optimization for Airlines"
   ]
  }
 ],
 "metadata": {
  "kernelspec": {
   "display_name": "Python 3",
   "language": "python",
   "name": "python3"
  },
  "language_info": {
   "codemirror_mode": {
    "name": "ipython",
    "version": 3
   },
   "file_extension": ".py",
   "mimetype": "text/x-python",
   "name": "python",
   "nbconvert_exporter": "python",
   "pygments_lexer": "ipython3",
   "version": "3.7.1"
  }
 },
 "nbformat": 4,
 "nbformat_minor": 2
}
